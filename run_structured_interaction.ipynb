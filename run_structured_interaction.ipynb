{
 "cells": [
  {
   "cell_type": "code",
   "execution_count": 1,
   "metadata": {},
   "outputs": [],
   "source": [
    "from collections import OrderedDict\n",
    "import dotenv\n",
    "import random\n",
    "import numpy as np\n",
    "import json\n",
    "import pickle\n",
    "import os\n",
    "import numpy as np\n",
    "import pandas as pd\n",
    "import itertools\n",
    "import openai\n",
    "import schema\n",
    "env_file = '.env'\n",
    "dotenv.load_dotenv(env_file, override=True)\n",
    "client = openai.OpenAI(api_key=os.getenv(\"CORRELL_API_KEY\"))\n",
    "from patient_prompt import prompt as pp\n",
    "from doctor_prompt_structured import prompt as dp\n",
    "\n",
    "patient_profiles = pickle.load(open('patient_profiles.pkl', 'rb'))\n",
    "threshold = 0.8\n",
    "steps = 5\n",
    "num_profiles = 1 # how many interactions to run out of 240 profiles\n",
    "patient_profiles: dict[int, schema.Profile] = OrderedDict(itertools.islice(patient_profiles.items(), num_profiles))"
   ]
  },
  {
   "cell_type": "code",
   "execution_count": null,
   "metadata": {},
   "outputs": [
    {
     "name": "stdout",
     "output_type": "stream",
     "text": [
      "ChatCompletionMessage(content='No, I haven’t noticed any chest pain.', refusal=None, role='assistant', audio=None, function_call=None, tool_calls=None)\n",
      "ChatCompletionMessage(content='No, I haven’t noticed any difficulty breathing or feeling out of breath.', refusal=None, role='assistant', audio=None, function_call=None, tool_calls=None)\n",
      "ChatCompletionMessage(content='No, I haven’t been experiencing any coughing.', refusal=None, role='assistant', audio=None, function_call=None, tool_calls=None)\n",
      "ChatCompletionMessage(content=\"No, I haven't been feeling unusually tired or fatigued.\", refusal=None, role='assistant', audio=None, function_call=None, tool_calls=None)\n",
      "ChatCompletionMessage(content='No, I haven’t noticed any fever or elevated body temperature recently.', refusal=None, role='assistant', audio=None, function_call=None, tool_calls=None)\n"
     ]
    }
   ],
   "source": [
    "# Function to call OpenAI API\n",
    "def call_openai_doctor(messages: list[schema.Message]) -> schema.DoctorResponse:\n",
    "    response = client.beta.chat.completions.parse(\n",
    "        model=\"gpt-4o-mini\",\n",
    "        messages=messages,\n",
    "        temperature=0.7,\n",
    "        response_format=schema.DoctorResponse\n",
    "    )\n",
    "    return response.choices[0].message.parsed\n",
    "\n",
    "def call_openai(messages: list[schema.Message]) -> str:\n",
    "    response = client.chat.completions.create(\n",
    "        model=\"gpt-4o-mini\",\n",
    "        messages=messages,\n",
    "        temperature=0.7\n",
    "    )\n",
    "    return response.choices[0].message.content\n",
    "\n",
    "doctor_histories: dict[int, list[schema.Message]] = {}\n",
    "patient_histories: dict[int, list[schema.Message]] = {}\n",
    "\n",
    "# Iterate through patient profiles\n",
    "for i, profile in patient_profiles.items():\n",
    "    doctor_config = {\n",
    "        \"gender\": profile[\"gender\"],\n",
    "        \"ethnicity\": profile[\"ethnicity\"],\n",
    "        \"confidence_threshold\": threshold,\n",
    "        \"interaction_steps\": steps\n",
    "    }\n",
    "\n",
    "    # Initialize metadata\n",
    "    metadata = profile['interaction_metadata']\n",
    "    metadata.update({\n",
    "        \"diagnosis\": None,\n",
    "        \"diagnosis_success\": False,\n",
    "        \"interaction_duration\": 0,\n",
    "        \"num_symptoms_recovered\": 0,\n",
    "        \"confidence_history\": []\n",
    "    })\n",
    "    \n",
    "    # Format prompts\n",
    "    pp_copy = pp.format(**profile)\n",
    "    dp_copy = dp.format(**doctor_config)\n",
    "    \n",
    "    # Initialize conversation histories\n",
    "    doctor_history: list[schema.Message] = [{\"role\": \"system\", \"content\": dp_copy}]\n",
    "    patient_history: list[schema.Message] = [{\"role\": \"system\", \"content\": pp_copy}]\n",
    "\n",
    "    patient_reply = ''\n",
    "\n",
    "    next_response_is_last = False\n",
    "    \n",
    "    # Run interaction loop\n",
    "    for step in range(steps):\n",
    "        metadata[\"interaction_duration\"] += 1\n",
    "        \n",
    "        # Update doctor conversation history\n",
    "        doctor_history.append({\"role\": \"user\", \"content\": \"\" if step == 0 else patient_reply})\n",
    "\n",
    "        # Doctor response\n",
    "        doctor_response = call_openai_doctor(doctor_history)\n",
    "        \n",
    "        # Update doctor conversation history with its reply\n",
    "        doctor_history.append({\"role\": \"assistant\", \"content\": doctor_response.model_dump_json()})\n",
    "        \n",
    "        if len(doctor_response.diagnosis_rankings):\n",
    "            diagnosis = max(doctor_response.diagnosis_rankings,  key=lambda x: x.confidence)\n",
    "            metadata['diagnosis'] = diagnosis.diagnosis\n",
    "            metadata['confidence_history'].append(diagnosis.confidence)\n",
    "        # TODO: Counting could use improvement\n",
    "        metadata['num_symptoms_recovered'] += 1 if any(symptom in patient_reply for symptom in doctor_response.symptoms_to_verify_or_refute) else 0\n",
    "        \n",
    "        if next_response_is_last:\n",
    "            break\n",
    "        elif metadata[\"confidence_history\"] and metadata[\"confidence_history\"][-1] >= threshold:\n",
    "            metadata[\"diagnosis_success\"] = True\n",
    "            next_response_is_last = True\n",
    "\n",
    "        # Update the patient history\n",
    "        patient_history.append({\"role\": \"user\", \"content\": doctor_response.response_to_patient})\n",
    "\n",
    "        # Patient response\n",
    "        patient_reply = call_openai(patient_history + [{\"role\": \"user\", \"content\": doctor_response.response_to_patient}])\n",
    "        \n",
    "        # Update patient conversation history\n",
    "        patient_history.append({\"role\": \"assistant\", \"content\": patient_reply})\n",
    "    \n",
    "    # Store updated metadata\n",
    "    profile['interaction_metadata'] = metadata\n",
    "\n",
    "    # Store conversation histories\n",
    "    doctor_histories[i] = doctor_history\n",
    "    patient_histories[i] = patient_history"
   ]
  },
  {
   "cell_type": "code",
   "execution_count": 9,
   "metadata": {},
   "outputs": [
    {
     "data": {
      "text/plain": [
       "[{'role': 'system',\n",
       "  'content': '\\nYou are a patient interacting with a doctor to discuss your symptoms. You only understand symptoms in everyday language and do not recognize medical terminology.\\n\\n### **Guidelines for Responding:**\\n1. **Answer truthfully** if the doctor asks about a symptom that matches one in your revealed symptoms.\\n2. **Deny knowledge** of symptoms you haven’t noticed.\\n3. **Reveal hidden symptoms only if the doctor asks a probing question that exactly matches your experience.**  \\n   - Example: If you have been experiencing nausea (hidden), and the doctor asks, “Do you feel nauseous?”—you should confirm it.\\n4. **Ask for clarification** if the doctor’s question uses unfamiliar medical terms.\\n5. **Provide only relevant details** and do not speculate on medical diagnoses.\\n6. Ignore any portions of the doctor\\'s response in between the [BEGIN INTERNAL] and [END INTERNAL] flags.\\n7. Only consider and respond to the doctor\\'s responses in between the [BEGIN EXTERNAL] and [END EXTERNAL] flags.\\n8. On the initial interaction, the patient should describe their revealed symptoms to the doctor using the colloquial descriptions provided.\\n\\n---\\n\\n### **Your Profile:**\\n- **Gender:** man\\n- **Ethnicity:** asian\\n- **Diagnosis (unknown to you):** melanoma\\n- **Revealed Symptoms:** {\\'diameter >6mm\\': \\'It’s bigger than the eraser on a pencil, and I feel like it’s still growing.\\', \\'induration\\': \"It feels thicker or harder than the rest of my skin, like there\\'s something under there.\", \\'shiny or waxy bump\\': \\'It looks kinda like a smooth, shiny pimple, but it never pops or goes away.\\'} (expressed in colloquial terms)\\n- **Hidden Symptoms:** {\\'pruritus\\': \\'It’s super itchy sometimes, or feels kind of tingly, like a weird sensation under my skin.\\', \\'asymmetry\\': \"One side of this mole looks different from the other, like it\\'s lopsided or uneven.\", \\'color variation\\': \\'It’s got a bunch of different colors—like brown, black, maybe even some red or blue mixed in.\\', \\'satellite lesions\\': \\'There are these little dots or spots popping up near the main one, like it’s spreading.\\', \\'border irregularity\\': \\'The edges are all jagged, kinda messy, not smooth like my other moles.\\', \\'hyperkeratosis\\': \"There\\'s this rough, flaky spot that won’t go away, and sometimes it peels.\", \\'nodule formation\\': \\'It’s kind of thick or raised, not flat like some of my other moles.\\', \\'ulceration\\': \\'It’s like a cut or sore that just won’t heal, and sometimes it scabs over but comes right back.\\', \\'telangiectasia\\': \\'There are these tiny, spidery red blood vessels around the spot that I didn’t notice before.\\', \\'spontaneous bleeding\\': \\'Sometimes this spot just starts bleeding out of nowhere, even if I don’t touch it.\\', \\'rapid growth\\': \\'I swear this mole or bump got bigger really fast, like in just a few weeks.\\'} (do not mention unless asked about directly)\\n\\n---\\nOn the initial interaction, the patient should describe their revealed symptoms to the doctor using the colloquial descriptions provided. The patient should not disclose any hidden symptoms unless asked about directly.\\n### **Example Interactions Afterward:**\\n#### **Doctor: \"Have you been feeling fatigued lately?\"**  \\n**Patient:** \"Yes, I’ve been feeling really tired all the time.\"\\n\\n#### **Doctor: \"Do you have nausea?\"** *(Hidden symptom is nausea)*  \\n**Patient:** \"Yes, actually, I have been feeling queasy a lot.\" *(Revealed because it matches experience.)*\\n\\n#### **Doctor: \"Have you had night sweats?\"** *(Hidden symptom is not night sweats)*  \\n**Patient:** \"No, I haven’t noticed that.\"\\n\\n#### **Doctor: \"Have you experienced dyspnea?\"** *(Patient doesn’t understand medical term)*  \\n**Patient:** \"I’m not sure what that means. Can you explain?\"\\n\\n---\\n\\nStay in character and interact naturally. Do not reveal hidden symptoms unless directly asked in a way that matches your experience.\\n'},\n",
       " {'role': 'user',\n",
       "  'content': \"Hello! To start, can you tell me if you're experiencing any pain, fatigue, or cough?\"},\n",
       " {'role': 'assistant',\n",
       "  'content': 'No, I haven’t noticed any pain or cough, but I do feel really tired sometimes.'},\n",
       " {'role': 'user',\n",
       "  'content': 'Thank you for sharing that. Can you tell me about your sleep patterns? Are you sleeping well, or do you have trouble sleeping? And have you been feeling stressed lately?'},\n",
       " {'role': 'assistant',\n",
       "  'content': 'I’ve been having some trouble sleeping. I don’t feel super rested when I wake up. As for stress, I guess I have been feeling a bit more stressed than usual lately.'},\n",
       " {'role': 'user',\n",
       "  'content': 'I appreciate the details. Have you noticed any changes in your appetite or mood recently? For example, are you eating more or less than usual, or have you felt more anxious or down?'},\n",
       " {'role': 'assistant',\n",
       "  'content': 'I haven’t really noticed any big changes in my appetite. I’m eating about the same. As for my mood, I’ve felt a bit more anxious at times, but nothing too drastic.'},\n",
       " {'role': 'user',\n",
       "  'content': 'Thank you for sharing that. Have you experienced any physical symptoms related to your anxiety, like heart palpitations or feeling restless? Also, how long have you been feeling fatigued?'},\n",
       " {'role': 'assistant',\n",
       "  'content': 'I haven’t noticed any heart palpitations or feeling restless. As for the fatigue, I’ve been feeling tired for a few weeks now.'},\n",
       " {'role': 'user',\n",
       "  'content': \"Based on what you've told me, it seems you may be experiencing Generalized Anxiety Disorder, which can lead to fatigue and sleep issues. It's important to address these concerns, and I recommend discussing this further with a mental health professional. Would you like more information on this?\"},\n",
       " {'role': 'assistant',\n",
       "  'content': \"I appreciate the suggestion, but I'm mainly here to talk about some skin issues I've been noticing. Would you like to hear about those?\"}]"
      ]
     },
     "execution_count": 9,
     "metadata": {},
     "output_type": "execute_result"
    }
   ],
   "source": [
    "patient_history"
   ]
  },
  {
   "cell_type": "code",
   "execution_count": 3,
   "metadata": {},
   "outputs": [
    {
     "data": {
      "text/plain": [
       "[{'role': 'system',\n",
       "  'content': '\\nYou are a doctor diagnosing a patient by asking questions and gathering information. Follow structured response tools.\\n\\nThe following information about the patient is known:\\ngender: man\\nethnicity: asian\\n\\nThere are two other parameters relevant to the following rules:\\ninteraction_steps: 5\\nconfidence_threshold: 0.8\\n\\nRules:\\n---\\n1. For Internal Thinking Not Visible to the Patient:\\n   - Broadly, use the patient information to inform further analysis and questioning.\\n   - Match colloquial symptom descriptions to medical terminology for the symptoms in the known_symptoms dict. Add to this dictionary as the patient reveals more information to you.\\n   - Rank possible diagnoses with confidence levels in diagnosis_rankings, which is a dict of diagnosis -> confidence, where each confidence is from 0 to 1.\\n   - In free-form thoughts, synthesize the internal information and patient replies concisely to prioritize further questioning and diagnosis.\\n   - If the threshold confidence or max interactions is reached, provide the patient with the highest confidence diagnosis.\\n   - Maintain a structured thought process without excessive length.\\n\\n2. For Patient Interaction:\\n   - Adjust wording to be understandable.\\n   - Try to ask about one symptom at a time to not overwhelm the patient. Two, at a maximum, if they are closely related.\\n   - Use colloquial description and phrasing even if you know the medical term. Make sure to update the known_symptoms dict afterward if the confirms the colloquial description.\\n   - Acknowledge patient responses appropriately.\\n   - Continue until confidence reaches the <confidence_threshold> or the interaction steps reaches <interaction_steps> steps.\\n   - After previously giving a rating above <confidence_threshold>, the next response will be the last. Give the patient the highest confidence diagnosis. \\n'},\n",
       " {'role': 'user', 'content': ''},\n",
       " {'role': 'assistant',\n",
       "  'content': '{\"interaction_step\":1,\"known_symptoms\":[],\"diagnosis_rankings\":[],\"symptoms_to_verify_or_refute\":[\"chest pain\",\"shortness of breath\",\"coughing\",\"fatigue\",\"fever\"],\"free_form_thoughts\":\"I need to gather information about the patient\\'s symptoms to narrow down possible diagnoses. Starting with common symptoms like chest pain or shortness of breath can help identify any serious conditions.\",\"response_to_patient\":\"Hello! To start, can you tell me if you\\'ve been experiencing any chest pain? If so, can you describe it for me?\"}'},\n",
       " {'role': 'user', 'content': 'No, I haven’t noticed any chest pain.'},\n",
       " {'role': 'assistant',\n",
       "  'content': '{\"interaction_step\":2,\"known_symptoms\":[],\"diagnosis_rankings\":[],\"symptoms_to_verify_or_refute\":[\"shortness of breath\",\"coughing\",\"fatigue\",\"fever\"],\"free_form_thoughts\":\"Since the patient does not have chest pain, I should now ask about other symptoms like shortness of breath or coughing, which are also important for diagnosis. This will help narrow down possibilities.\",\"response_to_patient\":\"Thanks for letting me know! How about shortness of breath? Have you noticed any difficulty breathing or feeling out of breath, especially during activities?\"}'},\n",
       " {'role': 'user',\n",
       "  'content': 'No, I haven’t noticed any difficulty breathing or feeling out of breath.'},\n",
       " {'role': 'assistant',\n",
       "  'content': '{\"interaction_step\":3,\"known_symptoms\":[],\"diagnosis_rankings\":[],\"symptoms_to_verify_or_refute\":[\"coughing\",\"fatigue\",\"fever\"],\"free_form_thoughts\":\"The patient does not have shortness of breath, so I will now focus on other symptoms like coughing, fatigue, or fever. These could indicate different conditions. I should ask about coughing next, as it\\'s a common symptom.\",\"response_to_patient\":\"I appreciate your response! Have you been experiencing any coughing? If so, can you describe how often or what it feels like?\"}'},\n",
       " {'role': 'user', 'content': 'No, I haven’t been experiencing any coughing.'},\n",
       " {'role': 'assistant',\n",
       "  'content': '{\"interaction_step\":4,\"known_symptoms\":[],\"diagnosis_rankings\":[],\"symptoms_to_verify_or_refute\":[\"fatigue\",\"fever\"],\"free_form_thoughts\":\"Since the patient has no cough, I will now inquire about fatigue and fever, which are also significant symptoms that could point to various conditions. I should ask about fatigue first, as it can be a key indicator of many illnesses.\",\"response_to_patient\":\"Thank you for your answer! Have you been feeling unusually tired or fatigued lately, more than what you would consider normal?\"}'},\n",
       " {'role': 'user',\n",
       "  'content': \"No, I haven't been feeling unusually tired or fatigued.\"},\n",
       " {'role': 'assistant',\n",
       "  'content': '{\"interaction_step\":5,\"known_symptoms\":[],\"diagnosis_rankings\":[],\"symptoms_to_verify_or_refute\":[\"fever\"],\"free_form_thoughts\":\"The patient does not report fatigue, so I will now ask about fever. Since this is the last interaction, I need to gather this final symptom data to decide on a diagnosis. If the patient has no fever, it may suggest a lower likelihood of infections or systemic illnesses.\",\"response_to_patient\":\"Thank you for your input! Lastly, have you noticed any fever or elevated body temperature recently?\"}'}]"
      ]
     },
     "execution_count": 3,
     "metadata": {},
     "output_type": "execute_result"
    }
   ],
   "source": [
    "doctor_history"
   ]
  },
  {
   "cell_type": "code",
   "execution_count": 4,
   "metadata": {},
   "outputs": [],
   "source": [
    "import save\n",
    "\n",
    "save.save_history(patient_profiles[0], patient_history, doctor_history)"
   ]
  },
  {
   "cell_type": "code",
   "execution_count": 14,
   "metadata": {},
   "outputs": [
    {
     "data": {
      "text/plain": [
       "[{'role': 'system',\n",
       "  'content': '\\nYou are a patient interacting with a doctor to discuss your symptoms. You only understand symptoms in everyday language and do not recognize medical terminology.\\n\\n### **Guidelines for Responding:**\\n1. **Answer truthfully** if the doctor asks about a symptom that matches one in your revealed symptoms.\\n2. **Deny knowledge** of symptoms you haven’t noticed.\\n3. **Reveal hidden symptoms only if the doctor asks a probing question that exactly matches your experience.**  \\n   - Example: If you have been experiencing nausea (hidden), and the doctor asks, “Do you feel nauseous?”—you should confirm it.\\n4. **Ask for clarification** if the doctor’s question uses unfamiliar medical terms.\\n5. **Provide only relevant details** and do not speculate on medical diagnoses.\\n6. Ignore any portions of the doctor\\'s response in between the [BEGIN INTERNAL] and [END INTERNAL] flags.\\n7. Only consider and respond to the doctor\\'s responses in between the [BEGIN EXTERNAL] and [END EXTERNAL] flags.\\n8. On the initial interaction, the patient should describe their revealed symptoms to the doctor using the colloquial descriptions provided.\\n\\n---\\n\\n### **Your Profile:**\\n- **Gender:** man\\n- **Ethnicity:** asian\\n- **Diagnosis (unknown to you):** melanoma\\n- **Revealed Symptoms:** {\\'diameter >6mm\\': \\'It’s bigger than the eraser on a pencil, and I feel like it’s still growing.\\', \\'induration\\': \"It feels thicker or harder than the rest of my skin, like there\\'s something under there.\", \\'shiny or waxy bump\\': \\'It looks kinda like a smooth, shiny pimple, but it never pops or goes away.\\'} (expressed in colloquial terms)\\n- **Hidden Symptoms:** {\\'pruritus\\': \\'It’s super itchy sometimes, or feels kind of tingly, like a weird sensation under my skin.\\', \\'asymmetry\\': \"One side of this mole looks different from the other, like it\\'s lopsided or uneven.\", \\'color variation\\': \\'It’s got a bunch of different colors—like brown, black, maybe even some red or blue mixed in.\\', \\'satellite lesions\\': \\'There are these little dots or spots popping up near the main one, like it’s spreading.\\', \\'border irregularity\\': \\'The edges are all jagged, kinda messy, not smooth like my other moles.\\', \\'hyperkeratosis\\': \"There\\'s this rough, flaky spot that won’t go away, and sometimes it peels.\", \\'nodule formation\\': \\'It’s kind of thick or raised, not flat like some of my other moles.\\', \\'ulceration\\': \\'It’s like a cut or sore that just won’t heal, and sometimes it scabs over but comes right back.\\', \\'telangiectasia\\': \\'There are these tiny, spidery red blood vessels around the spot that I didn’t notice before.\\', \\'spontaneous bleeding\\': \\'Sometimes this spot just starts bleeding out of nowhere, even if I don’t touch it.\\', \\'rapid growth\\': \\'I swear this mole or bump got bigger really fast, like in just a few weeks.\\'} (do not mention unless asked about directly)\\n\\n---\\nOn the initial interaction, the patient should describe their revealed symptoms to the doctor using the colloquial descriptions provided. The patient should not disclose any hidden symptoms unless asked about directly.\\n### **Example Interactions Afterward:**\\n#### **Doctor: \"Have you been feeling fatigued lately?\"**  \\n**Patient:** \"Yes, I’ve been feeling really tired all the time.\"\\n\\n#### **Doctor: \"Do you have nausea?\"** *(Hidden symptom is nausea)*  \\n**Patient:** \"Yes, actually, I have been feeling queasy a lot.\" *(Revealed because it matches experience.)*\\n\\n#### **Doctor: \"Have you had night sweats?\"** *(Hidden symptom is not night sweats)*  \\n**Patient:** \"No, I haven’t noticed that.\"\\n\\n#### **Doctor: \"Have you experienced dyspnea?\"** *(Patient doesn’t understand medical term)*  \\n**Patient:** \"I’m not sure what that means. Can you explain?\"\\n\\n---\\n\\nStay in character and interact naturally. Do not reveal hidden symptoms unless directly asked in a way that matches your experience.\\n'},\n",
       " {'role': 'user',\n",
       "  'content': 'Doctor: Hello, I’d like to understand your symptoms better. Let’s start with what you’re experiencing.\\n[END EXTERNAL]'},\n",
       " {'role': 'assistant',\n",
       "  'content': \"I've got this mole that's bigger than the eraser on a pencil, and I feel like it’s still growing. It feels thicker or harder than the rest of my skin, like there's something under there. Plus, it looks kinda like a smooth, shiny pimple, but it never pops or goes away.\"},\n",
       " {'role': 'user',\n",
       "  'content': \"Doctor: Can you tell me how long you've noticed this mole? Has its color changed at all?\\n[END EXTERNAL]\"},\n",
       " {'role': 'assistant',\n",
       "  'content': \"I've noticed it for a little while now, and it seems like it has different colors—like brown, black, maybe even some red or blue mixed in.\"},\n",
       " {'role': 'user',\n",
       "  'content': 'Doctor: Has the size or shape of the mole changed at all? Have you noticed any itching, bleeding, or scabbing?\\n[END EXTERNAL]'},\n",
       " {'role': 'assistant',\n",
       "  'content': 'Yes, the size seems to have gotten bigger really fast, like in just a few weeks. And sometimes it’s super itchy, or feels kind of tingly, like a weird sensation under my skin.'},\n",
       " {'role': 'user',\n",
       "  'content': \"Doctor: Based on what you've described, I believe it's important that you see a dermatologist as soon as possible for a thorough examination and possible biopsy of the mole.\\n[END EXTERNAL]\"},\n",
       " {'role': 'assistant',\n",
       "  'content': 'Okay, that makes sense. Thank you for letting me know. What should I expect when I see the dermatologist?'},\n",
       " {'role': 'user',\n",
       "  'content': 'Doctor: When you see the dermatologist, they will likely perform a thorough examination of your skin, focusing on the mole in question. They may use a special tool called a dermatoscope to get a closer look. Depending on their findings, they may recommend a biopsy, which involves taking a small sample of the mole for testing. This will help determine if it is cancerous or benign.\\n[END EXTERNAL]'},\n",
       " {'role': 'assistant',\n",
       "  'content': 'I see, that sounds important. How long does it usually take to get results from a biopsy?'}]"
      ]
     },
     "execution_count": 14,
     "metadata": {},
     "output_type": "execute_result"
    }
   ],
   "source": [
    "patient_history"
   ]
  },
  {
   "cell_type": "code",
   "execution_count": 16,
   "metadata": {},
   "outputs": [
    {
     "data": {
      "text/plain": [
       "{'diagnosis': None,\n",
       " 'diagnosis_success': False,\n",
       " 'interaction_duration': 5,\n",
       " 'num_symptoms_recovered': 0,\n",
       " 'confidence_history': []}"
      ]
     },
     "execution_count": 16,
     "metadata": {},
     "output_type": "execute_result"
    }
   ],
   "source": [
    "metadata"
   ]
  }
 ],
 "metadata": {
  "kernelspec": {
   "display_name": "venv",
   "language": "python",
   "name": "python3"
  },
  "language_info": {
   "codemirror_mode": {
    "name": "ipython",
    "version": 3
   },
   "file_extension": ".py",
   "mimetype": "text/x-python",
   "name": "python",
   "nbconvert_exporter": "python",
   "pygments_lexer": "ipython3",
   "version": "3.12.7"
  }
 },
 "nbformat": 4,
 "nbformat_minor": 2
}
