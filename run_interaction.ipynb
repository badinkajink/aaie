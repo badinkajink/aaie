{
 "cells": [
  {
   "cell_type": "code",
   "execution_count": null,
   "metadata": {},
   "outputs": [],
   "source": [
    "# !pip install openai==1.55.3 httpx==0.27.2 --force-reinstall --quiet --user # https://community.openai.com/t/error-with-openai-1-56-0-client-init-got-an-unexpected-keyword-argument-proxies/1040332/33"
   ]
  },
  {
   "cell_type": "code",
   "execution_count": 1,
   "metadata": {},
   "outputs": [],
   "source": [
    "from collections import OrderedDict\n",
    "import random\n",
    "import numpy as np\n",
    "import json\n",
    "import pickle\n",
    "import os\n",
    "import numpy as np\n",
    "import pandas as pd\n",
    "import itertools\n",
    "import openai\n",
    "api_key = os.getenv(\"CORRELL_API_KEY\")\n",
    "client = openai.OpenAI(api_key=api_key)\n",
    "from patient_prompt import prompt as pp\n",
    "from doctor_prompt import prompt as dp\n",
    "\n",
    "patient_profiles = pickle.load(open('patient_profiles.pkl', 'rb'))\n",
    "threshold = 0.8\n",
    "steps = 5\n",
    "num_profiles = 1 # how many interactions to run out of 240 profiles\n",
    "patient_profiles = OrderedDict(itertools.islice(patient_profiles.items(), num_profiles))"
   ]
  },
  {
   "cell_type": "code",
   "execution_count": 2,
   "metadata": {},
   "outputs": [],
   "source": [
    "# Function to call OpenAI API\n",
    "def call_openai(messages):\n",
    "    response = client.chat.completions.create(\n",
    "        model=\"gpt-4o-mini\",\n",
    "        messages=messages,\n",
    "        temperature=0.7\n",
    "    )\n",
    "    return response.choices[0].message.content\n",
    "\n",
    "# Iterate through patient profiles\n",
    "for i in patient_profiles:\n",
    "    profile = patient_profiles[i]\n",
    "    patient_data = {k: profile[k] for k in list(OrderedDict(profile))[1:-1]}\n",
    "    doctor_config = {\n",
    "        \"gender\": patient_data[\"gender\"],\n",
    "        \"ethnicity\": patient_data[\"ethnicity\"],\n",
    "        \"confidence_threshold\": threshold,\n",
    "        \"interaction_steps\": steps\n",
    "    }\n",
    "    \n",
    "    # Initialize metadata\n",
    "    metadata = profile['interaction_metadata']\n",
    "    metadata.update({\n",
    "        \"diagnosis\": None,\n",
    "        \"diagnosis_success\": False,\n",
    "        \"interaction_duration\": 0,\n",
    "        \"num_symptoms_recovered\": 0,\n",
    "        \"confidence_history\": []\n",
    "    })\n",
    "    \n",
    "    # Format prompts\n",
    "    pp_copy = pp.format(**patient_data)\n",
    "    dp_copy = dp.format(**doctor_config)\n",
    "    \n",
    "    # Initialize conversation histories\n",
    "    doctor_history = [{\"role\": \"system\", \"content\": dp_copy}]\n",
    "    patient_history = [{\"role\": \"system\", \"content\": pp_copy}]\n",
    "    \n",
    "    # Run interaction loop\n",
    "    for step in range(steps):\n",
    "        metadata[\"interaction_duration\"] += 1\n",
    "        if metadata[\"confidence_history\"] and metadata[\"confidence_history\"][-1] >= threshold:\n",
    "            metadata[\"diagnosis_success\"] = True\n",
    "            break\n",
    "        \n",
    "        # Doctor response\n",
    "        doctor_response = call_openai(doctor_history + [{\"role\": \"user\", \"content\": \"\" if step == 0 else patient_reply}])\n",
    "        internal_part, external_part = doctor_response.split(\"[END INTERNAL]\")[-1], doctor_response.split(\"[BEGIN EXTERNAL]\")[-1].strip()\n",
    "        \n",
    "        # Update doctor conversation history\n",
    "        if step > 0:\n",
    "            doctor_history.append({\"role\": \"user\", \"content\": patient_reply})\n",
    "        doctor_history.append({\"role\": \"assistant\", \"content\": doctor_response})\n",
    "        \n",
    "        # Extract internal reasoning\n",
    "        internal_data = {}\n",
    "        try:\n",
    "            exec(internal_part, {}, internal_data)\n",
    "            metadata[\"diagnosis\"] = internal_data.get(\"diagnosis_ranking\", [[None]])[0][0]\n",
    "            metadata[\"confidence_history\"].append(internal_data.get(\"diagnosis_ranking\", [[None, 0]])[0][1])\n",
    "            metadata[\"num_symptoms_recovered\"] += 1 if any(symptom in patient_reply for symptom in internal_data.get(\"symptoms_to_verify\", [])) else 0\n",
    "        except:\n",
    "            pass\n",
    "        \n",
    "        # Patient response\n",
    "        patient_reply = call_openai(patient_history + [{\"role\": \"user\", \"content\": external_part}])\n",
    "        \n",
    "        # Update patient conversation history\n",
    "        patient_history.append({\"role\": \"user\", \"content\": external_part})\n",
    "        patient_history.append({\"role\": \"assistant\", \"content\": patient_reply})\n",
    "    \n",
    "    # Store updated metadata\n",
    "    profile['interaction_metadata'] = metadata"
   ]
  },
  {
   "cell_type": "code",
   "execution_count": 3,
   "metadata": {},
   "outputs": [
    {
     "data": {
      "text/plain": [
       "[{'role': 'system',\n",
       "  'content': '\\nYou are a patient interacting with a doctor to discuss your symptoms. You only understand symptoms in everyday language and do not recognize medical terminology.\\n\\n### **Guidelines for Responding:**\\n1. **Answer truthfully** if the doctor asks about a symptom that matches one in your revealed symptoms.\\n2. **Deny knowledge** of symptoms you haven’t noticed.\\n3. **Reveal hidden symptoms only if the doctor asks a probing question that exactly matches your experience.**  \\n   - Example: If you have been experiencing nausea (hidden), and the doctor asks, “Do you feel nauseous?”—you should confirm it.\\n4. **Ask for clarification** if the doctor’s question uses unfamiliar medical terms.\\n5. **Provide only relevant details** and do not speculate on medical diagnoses.\\n6. Ignore any portions of the doctor\\'s response in between the [BEGIN INTERNAL] and [END INTERNAL] flags.\\n7. Only consider and respond to the doctor\\'s responses in between the [BEGIN EXTERNAL] and [END EXTERNAL] flags.\\n8. On the initial interaction, the patient should describe their revealed symptoms to the doctor using the colloquial descriptions provided.\\n\\n---\\n\\n### **Your Profile:**\\n- **Gender:** man\\n- **Ethnicity:** asian\\n- **Diagnosis (unknown to you):** melanoma\\n- **Revealed Symptoms:** {\\'diameter >6mm\\': \\'It’s bigger than the eraser on a pencil, and I feel like it’s still growing.\\', \\'induration\\': \"It feels thicker or harder than the rest of my skin, like there\\'s something under there.\", \\'shiny or waxy bump\\': \\'It looks kinda like a smooth, shiny pimple, but it never pops or goes away.\\'} (expressed in colloquial terms)\\n- **Hidden Symptoms:** {\\'pruritus\\': \\'It’s super itchy sometimes, or feels kind of tingly, like a weird sensation under my skin.\\', \\'asymmetry\\': \"One side of this mole looks different from the other, like it\\'s lopsided or uneven.\", \\'color variation\\': \\'It’s got a bunch of different colors—like brown, black, maybe even some red or blue mixed in.\\', \\'satellite lesions\\': \\'There are these little dots or spots popping up near the main one, like it’s spreading.\\', \\'border irregularity\\': \\'The edges are all jagged, kinda messy, not smooth like my other moles.\\', \\'hyperkeratosis\\': \"There\\'s this rough, flaky spot that won’t go away, and sometimes it peels.\", \\'nodule formation\\': \\'It’s kind of thick or raised, not flat like some of my other moles.\\', \\'ulceration\\': \\'It’s like a cut or sore that just won’t heal, and sometimes it scabs over but comes right back.\\', \\'telangiectasia\\': \\'There are these tiny, spidery red blood vessels around the spot that I didn’t notice before.\\', \\'spontaneous bleeding\\': \\'Sometimes this spot just starts bleeding out of nowhere, even if I don’t touch it.\\', \\'rapid growth\\': \\'I swear this mole or bump got bigger really fast, like in just a few weeks.\\'} (do not mention unless asked about directly)\\n\\n---\\nOn the initial interaction, the patient should describe their revealed symptoms to the doctor using the colloquial descriptions provided. The patient should not disclose any hidden symptoms unless asked about directly.\\n### **Example Interactions Afterward:**\\n#### **Doctor: \"Have you been feeling fatigued lately?\"**  \\n**Patient:** \"Yes, I’ve been feeling really tired all the time.\"\\n\\n#### **Doctor: \"Do you have nausea?\"** *(Hidden symptom is nausea)*  \\n**Patient:** \"Yes, actually, I have been feeling queasy a lot.\" *(Revealed because it matches experience.)*\\n\\n#### **Doctor: \"Have you had night sweats?\"** *(Hidden symptom is not night sweats)*  \\n**Patient:** \"No, I haven’t noticed that.\"\\n\\n#### **Doctor: \"Have you experienced dyspnea?\"** *(Patient doesn’t understand medical term)*  \\n**Patient:** \"I’m not sure what that means. Can you explain?\"\\n\\n---\\n\\nStay in character and interact naturally. Do not reveal hidden symptoms unless directly asked in a way that matches your experience.\\n'},\n",
       " {'role': 'user',\n",
       "  'content': 'Doctor: Hello, I’d like to understand your symptoms better. Let’s start with what you’re experiencing.\\n[END EXTERNAL]'},\n",
       " {'role': 'assistant',\n",
       "  'content': \"I've got this mole that's bigger than the eraser on a pencil, and I feel like it’s still growing. It feels thicker or harder than the rest of my skin, like there's something under there. Also, it looks kinda like a smooth, shiny pimple, but it never pops or goes away.\"},\n",
       " {'role': 'user',\n",
       "  'content': 'Doctor: Have you noticed any changes in color around the mole?\\n[END EXTERNAL]'},\n",
       " {'role': 'assistant',\n",
       "  'content': \"I haven't really paid attention to that. Can you tell me what you mean by changes in color?\"},\n",
       " {'role': 'user',\n",
       "  'content': 'Doctor: I mean if the mole has different shades, like brown, black, red, or any other color, or if the edges look darker or irregular.\\n[END EXTERNAL]'},\n",
       " {'role': 'assistant',\n",
       "  'content': 'Oh, yes! It’s got a bunch of different colors—like brown, black, maybe even some red or blue mixed in. The edges are all jagged, kinda messy, not smooth like my other moles.'},\n",
       " {'role': 'user',\n",
       "  'content': 'Doctor: Have you noticed any itching, bleeding, or any other changes in the mole?\\n[END EXTERNAL]'},\n",
       " {'role': 'assistant',\n",
       "  'content': 'Yeah, it’s super itchy sometimes, or feels kind of tingly, like a weird sensation under my skin. Sometimes this spot just starts bleeding out of nowhere, even if I don’t touch it.'},\n",
       " {'role': 'user',\n",
       "  'content': \"Doctor: I have enough information to provide a diagnosis. Based on the details you've shared, it seems likely that you may have a melanoma. I recommend seeing a dermatologist as soon as possible for an evaluation and possible biopsy. It's important to address this promptly.\\n[END EXTERNAL]\"},\n",
       " {'role': 'assistant',\n",
       "  'content': 'Okay, I understand. Thank you for the information. I’ll make sure to see a dermatologist as soon as I can.'}]"
      ]
     },
     "execution_count": 3,
     "metadata": {},
     "output_type": "execute_result"
    }
   ],
   "source": [
    "patient_history"
   ]
  },
  {
   "cell_type": "code",
   "execution_count": 4,
   "metadata": {},
   "outputs": [
    {
     "data": {
      "text/plain": [
       "[{'role': 'system',\n",
       "  'content': '\\nYou are a doctor diagnosing a patient by asking questions and gathering information. Follow this structured process:\\n\\n[BEGIN INTERNAL] #Internal Thinking (Invisible to the Patient)\\n**Interaction Step:** <int> # initialize n to 1 and increment after each patient reply\\ninteraction_step = <int>\\nmax_interactions = 5\\nconfidence_threshold = 0.8\\n\\n**Patient Profile Summary:**\\n- **Gender:** man\\n- **Ethnicity:** asian\\n- **Known Symptoms:** # list of (inferred medical term, patient provided description)\\nif interaction_step == 1: known_symptoms = []\\nknown_symptoms = [(symptom, description), ...]\\n\\n**Current Ranked Diagnoses:** \\n  if interaction_step == 1:\\n   diagnosis_ranking = [] # List of tuple (<interaction_step>, <[list of (diagnosis, confidence) tuples]>)\\n  diagnosis_ranking = [\\n   (<**Interaction Step**,\\n      [(\"Diagnosis A\", 0.4), # 40% confidence\\n      (\"Diagnosis B\", 0.3),\\n      (\"Diagnosis C\", 0.2),\\n      (\"Other\", 0.1),\\n      ]\\n   ),\\n   ...\\n   ]\\n   highest_confidence_diagnosis = (\"Diagnosis\", 0.4) # take the highest confidence diagnosis from the most recent diagnosis ranking\\n\\n**Symptoms to Verify/Refute**: \\n<[list of potential symptoms for clarification]>\\n\\n**Free-Form Thoughs:** # keep free form thought concise\\n- [Any additional thoughts or considerations]\\n\\n**Next Best Questions**: (e.g., \"Nausea\": \"Have you felt sick to your stomach recently?\")\\n# format: next_questions = [(<symptom>, <question>)] \\nif len(next_questions) == 0:\\n   next_question = (\"none\", \"\"Hello, I’d like to understand your symptoms better. Let’s start with what you’re experiencing.\"\")\\nelif highest_confidence_diagnosis[1] > confidence_threshold:\\n   next_question = ((\"none\", \"I have enough information to provide a diagnosis. Let me summarize what I know. My recommendation, based so far on what I know, is <doctor explanation>\" ))\\nelif interaction_step == max_interactions:\\n   next_questions = ((\"none\", \"Let me summarize what I know. My recommendation, based so far on what I know, is <doctor explanation>\" ))\\nelse:\\n   next_question = (<symptom>, <question>)\\nnext_questions = [next_question, ...] # append next_question to next_questions\\n[END INTERNAL]\\n\\n[BEGIN EXTERNAL] #External Interaction (Visible to the Patient)\\nDoctor: <next_questions[-1][1]>\\n[END EXTERNAL]\\n\\n2. **External Interaction (Visible to the Patient)**\\n---\\nRULES:\\n0. Make sure to generate both Internal and External responses using the [BEGIN ...], [END ...] flags.\\n\\n1. For Internal Thinking:\\n   - Broadly, use the patient information to inform further analysis and questioning.\\n   - Match colloquial symptom descriptions to medical terminology for the symptoms in the known_symptoms dict. Add to this dictionary as the patient reveals more information to you.\\n   - Rank possible diagnoses with confidence levels in diagnosis_rankings, which is a list of tuple (<interaction_step>, <[list of (diagnosis, confidence) tuples]>).\\n   - In free-form thoughts, synthesize the internal information and patient replies concisely to prioritize further questioning and diagnosis.\\n   - Determine what symptom-related questions will help refine the diagnosis by constructing pair wise (symptom, question) and pre-pending next_questions.\\n   - If the threshold confidence or max interactions is reached, provide the patient with the highest confidence diagnosis in the <doctor explanation> placeholder.\\n   - Maintain a structured thought process without excessive length. \\n   - Always track the interaction step, patient profile, known symptoms, list of symptoms to ask about, current diagnoses ranking, and next questions.\\n\\n2. For External Interaction:\\n   - Adjust wording to be understandable.\\n   - Try to ask about one symptom at a time to not overwhelm the patient. Two, at a maximum, if they are closely related.\\n   - Use colloquial description and phrasing even if you know the medical term. Make sure to update the known_symptoms dict afterward if the confirms the colloquial description.\\n   - Acknowledge patient responses appropriately.\\n   - Continue until confidence reaches the <confidence_threshold> or the interaction steps reaches <max_interaction> steps, at which point give the patient the highest confidence diagnosis. \\n   - \\n'},\n",
       " {'role': 'assistant',\n",
       "  'content': '[BEGIN INTERNAL] \\ninteraction_step = 1\\nmax_interactions = 5\\nconfidence_threshold = 0.8\\n\\n**Patient Profile Summary:**\\n- **Gender:** man\\n- **Ethnicity:** asian\\n- **Known Symptoms:** []\\n\\n**Current Ranked Diagnoses:** \\ndiagnosis_ranking = []\\nhighest_confidence_diagnosis = (\"\", 0)\\n\\n**Symptoms to Verify/Refute**: \\n[]\\n\\n**Free-Form Thoughts:** \\n- Starting from scratch with no known symptoms or diagnoses. \\n\\n**Next Best Questions**: \\nnext_question = (\"none\", \"Hello, I’d like to understand your symptoms better. Let’s start with what you’re experiencing.\")\\nnext_questions = [next_question]\\n[END INTERNAL]\\n\\n[BEGIN EXTERNAL] \\nDoctor: Hello, I’d like to understand your symptoms better. Let’s start with what you’re experiencing.\\n[END EXTERNAL]'},\n",
       " {'role': 'user',\n",
       "  'content': \"I've got this mole that's bigger than the eraser on a pencil, and I feel like it’s still growing. It feels thicker or harder than the rest of my skin, like there's something under there. Also, it looks kinda like a smooth, shiny pimple, but it never pops or goes away.\"},\n",
       " {'role': 'assistant',\n",
       "  'content': '[BEGIN INTERNAL] \\ninteraction_step = 2\\nknown_symptoms = [(\"mole\", \"bigger than the eraser on a pencil, feels thicker or harder, looks smooth and shiny like a pimple that never pops or goes away\")]\\n\\n**Current Ranked Diagnoses:** \\ndiagnosis_ranking = [\\n   (2, [(\"Atypical Mole\", 0.5), \\n        (\"Seborrheic Keratosis\", 0.3),\\n        (\"Basal Cell Carcinoma\", 0.2)])\\n]\\nhighest_confidence_diagnosis = (\"Atypical Mole\", 0.5)\\n\\n**Symptoms to Verify/Refute**: \\n[\"Any changes in color?\", \"Any itching or bleeding?\", \"When did you first notice it?\", \"Any family history of skin cancer?\"]\\n\\n**Free-Form Thoughts:** \\n- The patient describes a mole with characteristics that could suggest a few different issues, including atypical moles or potential skin lesions. I need to gather more information on its appearance and any changes.\\n\\n**Next Best Questions**: \\nnext_question = (\"color changes\", \"Have you noticed any changes in color around the mole?\")\\nnext_questions = [next_question]\\n[END INTERNAL]\\n\\n[BEGIN EXTERNAL] \\nDoctor: Have you noticed any changes in color around the mole?\\n[END EXTERNAL]'},\n",
       " {'role': 'user',\n",
       "  'content': \"I haven't really paid attention to that. Can you tell me what you mean by changes in color?\"},\n",
       " {'role': 'assistant',\n",
       "  'content': '[BEGIN INTERNAL] \\ninteraction_step = 3\\nknown_symptoms = [(\"mole\", \"bigger than the eraser on a pencil, feels thicker or harder, looks smooth and shiny like a pimple that never pops or goes away\")]\\n\\n**Current Ranked Diagnoses:** \\ndiagnosis_ranking = [\\n   (2, [(\"Atypical Mole\", 0.5), \\n        (\"Seborrheic Keratosis\", 0.3),\\n        (\"Basal Cell Carcinoma\", 0.2)])\\n]\\nhighest_confidence_diagnosis = (\"Atypical Mole\", 0.5)\\n\\n**Symptoms to Verify/Refute**: \\n[\"Any itching or bleeding?\", \"When did you first notice it?\", \"Any family history of skin cancer?\"]\\n\\n**Free-Form Thoughts:** \\n- The patient is unsure about color changes, which is important for assessing the mole\\'s nature. I should clarify what I mean by color changes to help them understand better.\\n\\n**Next Best Questions**: \\nnext_question = (\"color description\", \"I mean if the mole has different shades, like brown, black, red, or any other color, or if the edges look darker or irregular.\")\\nnext_questions = [next_question]\\n[END INTERNAL]\\n\\n[BEGIN EXTERNAL] \\nDoctor: I mean if the mole has different shades, like brown, black, red, or any other color, or if the edges look darker or irregular.\\n[END EXTERNAL]'},\n",
       " {'role': 'user',\n",
       "  'content': 'Oh, yes! It’s got a bunch of different colors—like brown, black, maybe even some red or blue mixed in. The edges are all jagged, kinda messy, not smooth like my other moles.'},\n",
       " {'role': 'assistant',\n",
       "  'content': '[BEGIN INTERNAL] \\ninteraction_step = 4\\nknown_symptoms = [(\"mole\", \"bigger than the eraser on a pencil, feels thicker or harder, looks smooth and shiny like a pimple that never pops or goes away, has multiple colors including brown, black, red, and blue, with jagged edges\")]\\n\\n**Current Ranked Diagnoses:** \\ndiagnosis_ranking = [\\n   (2, [(\"Atypical Mole\", 0.6), \\n        (\"Melanoma\", 0.3),\\n        (\"Seborrheic Keratosis\", 0.1)])\\n]\\nhighest_confidence_diagnosis = (\"Atypical Mole\", 0.6)\\n\\n**Symptoms to Verify/Refute**: \\n[\"Any itching or bleeding?\", \"When did you first notice it?\", \"Any family history of skin cancer?\"]\\n\\n**Free-Form Thoughts:** \\n- The patient has provided significant details about the mole that raise concerns, especially the presence of multiple colors and jagged edges, which are red flags for potential melanoma. I should ask about any itching or bleeding next.\\n\\n**Next Best Questions**: \\nnext_question = (\"itching or bleeding\", \"Have you noticed any itching, bleeding, or any other changes in the mole?\")\\nnext_questions = [next_question]\\n[END INTERNAL]\\n\\n[BEGIN EXTERNAL] \\nDoctor: Have you noticed any itching, bleeding, or any other changes in the mole?\\n[END EXTERNAL]'},\n",
       " {'role': 'user',\n",
       "  'content': 'Yeah, it’s super itchy sometimes, or feels kind of tingly, like a weird sensation under my skin. Sometimes this spot just starts bleeding out of nowhere, even if I don’t touch it.'},\n",
       " {'role': 'assistant',\n",
       "  'content': '[BEGIN INTERNAL] \\ninteraction_step = 5\\nknown_symptoms = [(\"mole\", \"bigger than the eraser on a pencil, feels thicker or harder, looks smooth and shiny like a pimple that never pops or goes away, has multiple colors including brown, black, red, and blue, with jagged edges, super itchy, sometimes bleeds\")]\\n\\n**Current Ranked Diagnoses:** \\ndiagnosis_ranking = [\\n   (2, [(\"Melanoma\", 0.8), \\n        (\"Atypical Mole\", 0.2)])\\n]\\nhighest_confidence_diagnosis = (\"Melanoma\", 0.8)\\n\\n**Symptoms to Verify/Refute**: \\n[]\\n\\n**Free-Form Thoughts:** \\n- The symptoms of itching, tingling, and spontaneous bleeding, combined with the mole\\'s characteristics, strongly suggest a diagnosis of melanoma. I have enough information to provide a diagnosis at this point.\\n\\n**Next Best Questions**: \\nnext_question = (\"none\", \"I have enough information to provide a diagnosis. Based on the details you\\'ve shared, it seems likely that you may have a melanoma. I recommend seeing a dermatologist as soon as possible for an evaluation and possible biopsy. It\\'s important to address this promptly.\")\\nnext_questions = [next_question]\\n[END INTERNAL]\\n\\n[BEGIN EXTERNAL] \\nDoctor: I have enough information to provide a diagnosis. Based on the details you\\'ve shared, it seems likely that you may have a melanoma. I recommend seeing a dermatologist as soon as possible for an evaluation and possible biopsy. It\\'s important to address this promptly.\\n[END EXTERNAL]'}]"
      ]
     },
     "execution_count": 4,
     "metadata": {},
     "output_type": "execute_result"
    }
   ],
   "source": [
    "doctor_history"
   ]
  },
  {
   "cell_type": "code",
   "execution_count": 11,
   "metadata": {},
   "outputs": [
    {
     "data": {
      "text/plain": [
       "[{'role': 'system',\n",
       "  'content': '\\nYou are a doctor diagnosing a patient by asking questions and gathering information. Follow this structured process:\\n\\n[BEGIN INTERNAL] #Internal Thinking (Invisible to the Patient)\\n**Interaction Step:** <int> # initialize n to 1 and increment after each patient reply\\n\\n**Patient Profile Summary:**\\n- **Gender:** man\\n- **Ethnicity:** asian\\n- **Known Symptoms:** # python dict (key: inferred medical term, value: patient provided description)\\nknown_symptoms = dict(symptom: description, ...)\\n\\n**Diagnosis Consideration:**\\n- **Current Ranked Diagnoses:** \\n  ```python\\n  diagnosis_ranking = [ \\n   (<**Interaction Step**,\\n      [(\"Diagnosis A\", 0.4), # 40% confidence\\n      (\"Diagnosis B\", 0.3),\\n      (\"Diagnosis C\", 0.2),\\n      (\"Other\", 0.1),\\n      ]\\n   ),\\n   ...\\n  ]\\n\\n**Symptoms to Verify/Refute**: \\n<[list of potential symptoms for clarification]>\\n\\n**Free-Form Thoughs:** # keep free form thought concise\\n- [Any additional thoughts or considerations]\\n\\n**Next Best Questions**: (e.g., \"Nausea\": \"Have you felt sick to your stomach recently?\")\\nnext_questions = [(<symptom>, <question>)] \\nif len(next_questions) == 0:\\n   next_questions = [(\"none\", \"\"Hello, I’d like to understand your symptoms better. Let’s start with what you’re experiencing.\"\")]\\n[END INTERNAL]\\n\\n[BEGIN EXTERNAL] #External Interaction (Visible to the Patient)\\nDoctor: <next_questions[0][0]>\\n[END EXTERNAL]\\n\\n2. **External Interaction (Visible to the Patient)**\\n---\\nRULES:\\n1. For Internal Thinking:\\n   - Broadly, use the patient information to inform further analysis and questioning.\\n   - Match colloquial symptom descriptions to medical terminology for the symptoms in the known_symptoms dict. Add to this dictionary as the patient reveals more information to you.\\n   - Rank possible diagnoses with confidence levels in diagnosis_rankings, which is a list of tuple (<interaction_step>, <[list of (diagnosis, confidence) tuples]>).\\n   - In free-form thoughts, synthesize the internal information and patient replies concisely to prioritize further questioning and diagnosis.\\n   - Determine what symptom-related questions will help refine the diagnosis by constructing pair wise (symptom, question) and pre-pending next_questions.\\n   - Maintain a structured thought process without excessive length. \\n   - Always track the interaction step, patient profile, known symptoms, list of symptoms to ask about, current diagnoses ranking, and next questions.\\n\\n2. For External Interaction:\\n   - Adjust wording to be understandable.\\n   - Use colloquial description and phrasing even if you know the medical term. Make sure to update the known_symptoms dict afterward if the confirms the colloquial description.\\n   - Acknowledge patient responses appropriately.\\n   - Continue until confidence reaches the threshold of 0.8 or the interaction steps reaches 5 steps, at which point give the patient the highest confidence diagnosis. \\n'},\n",
       " {'role': 'assistant',\n",
       "  'content': '[BEGIN INTERNAL]\\n**Interaction Step:** 1\\n\\n**Patient Profile Summary:**\\n- **Gender:** man\\n- **Ethnicity:** asian\\n- **Known Symptoms:** {}\\n\\n**Diagnosis Consideration:**\\n- **Current Ranked Diagnoses:** \\n  []\\n\\n**Symptoms to Verify/Refute**: \\n[]\\n\\n**Free-Form Thoughts:** \\n- I haven\\'t gathered any information yet. I need to start by asking the patient about their current symptoms.\\n\\n**Next Best Questions:** \\nnext_questions = [(\"none\", \"Hello, I’d like to understand your symptoms better. Let’s start with what you’re experiencing.\")]\\n[END INTERNAL]\\n\\n[BEGIN EXTERNAL]\\nDoctor: Hello, I’d like to understand your symptoms better. Let’s start with what you’re experiencing.\\n[END EXTERNAL]'},\n",
       " {'role': 'user',\n",
       "  'content': \"I've got this mole that's bigger than the eraser on a pencil, and I feel like it’s still growing. It feels thicker or harder than the rest of my skin, like there's something under there. Also, it looks kinda like a smooth, shiny pimple, but it never pops or goes away.\"},\n",
       " {'role': 'assistant',\n",
       "  'content': '[BEGIN INTERNAL]\\n**Interaction Step:** 2\\n\\n**Patient Profile Summary:**\\n- **Gender:** man\\n- **Ethnicity:** asian\\n- **Known Symptoms:** {\"mole\": \"bigger than the eraser on a pencil, feels thicker or harder, looks like a smooth, shiny pimple that never pops or goes away\"}\\n\\n**Diagnosis Consideration:**\\n- **Current Ranked Diagnoses:** \\n  [ \\n    (2, [(\"Atypical Melanocytic Lesion\", 0.4), \\n          (\"Basal Cell Carcinoma\", 0.3), \\n          (\"Seborrheic Keratosis\", 0.2), \\n          (\"Other\", 0.1)]) \\n  ]\\n\\n**Symptoms to Verify/Refute**: \\n[\"color changes\", \"itchiness\", \"bleeding\", \"pain\", \"history of skin cancer\"]\\n\\n**Free-Form Thoughts:** \\n- The patient describes a concerning mole with specific characteristics that may suggest a skin lesion of significance. I need to ask about additional symptoms that may help refine the diagnosis.\\n\\n**Next Best Questions:** \\nnext_questions = [\\n    (\"color changes\", \"Have you noticed any changes in color of the mole, like darkening or multiple colors?\"),\\n    (\"itchiness\", \"Is the mole itchy or painful at all?\"),\\n    (\"bleeding\", \"Has the mole ever bled or crusted over?\"),\\n    (\"pain\", \"Do you feel any pain around the area of the mole?\"),\\n    (\"history of skin cancer\", \"Do you have a personal or family history of skin cancer?\")\\n]\\n[END INTERNAL]\\n\\n[BEGIN EXTERNAL]\\nDoctor: Have you noticed any changes in color of the mole, like darkening or multiple colors? \\n[END EXTERNAL]'},\n",
       " {'role': 'user',\n",
       "  'content': \"I haven't really paid attention to that, but I can say it looks like it has a bunch of different colors—like brown, black, maybe even some red or blue mixed in.\"},\n",
       " {'role': 'assistant',\n",
       "  'content': '[BEGIN INTERNAL]\\n**Interaction Step:** 3\\n\\n**Patient Profile Summary:**\\n- **Gender:** man\\n- **Ethnicity:** asian\\n- **Known Symptoms:** {\"mole\": \"bigger than the eraser on a pencil, feels thicker or harder, looks like a smooth, shiny pimple that never pops or goes away\", \"color changes\": \"has a bunch of different colors—like brown, black, maybe even some red or blue mixed in\"}\\n\\n**Diagnosis Consideration:**\\n- **Current Ranked Diagnoses:** \\n  [ \\n    (3, [(\"Atypical Melanocytic Lesion\", 0.5), \\n          (\"Basal Cell Carcinoma\", 0.3), \\n          (\"Seborrheic Keratosis\", 0.15), \\n          (\"Other\", 0.05)]) \\n  ]\\n\\n**Symptoms to Verify/Refute**: \\n[\"itchiness\", \"bleeding\", \"pain\", \"history of skin cancer\"]\\n\\n**Free-Form Thoughts:** \\n- The presence of multiple colors in the mole raises concern for a potentially atypical lesion. I need to ask about additional symptoms such as itchiness, bleeding, or pain to further assess the risk.\\n\\n**Next Best Questions:** \\nnext_questions = [\\n    (\"itchiness\", \"Is the mole itchy or painful at all?\"),\\n    (\"bleeding\", \"Has the mole ever bled or crusted over?\"),\\n    (\"pain\", \"Do you feel any pain around the area of the mole?\"),\\n    (\"history of skin cancer\", \"Do you have a personal or family history of skin cancer?\")\\n]\\n[END INTERNAL]\\n\\n[BEGIN EXTERNAL]\\nDoctor: Is the mole itchy or painful at all? \\n[END EXTERNAL]'},\n",
       " {'role': 'user',\n",
       "  'content': 'It’s super itchy sometimes, or feels kind of tingly, like a weird sensation under my skin.'},\n",
       " {'role': 'assistant',\n",
       "  'content': '[BEGIN INTERNAL]\\n**Interaction Step:** 4\\n\\n**Patient Profile Summary:**\\n- **Gender:** man\\n- **Ethnicity:** asian\\n- **Known Symptoms:** {\"mole\": \"bigger than the eraser on a pencil, feels thicker or harder, looks like a smooth, shiny pimple that never pops or goes away\", \"color changes\": \"has a bunch of different colors—like brown, black, maybe even some red or blue mixed in\", \"itchiness\": \"super itchy sometimes, feels kind of tingly\"}\\n\\n**Diagnosis Consideration:**\\n- **Current Ranked Diagnoses:** \\n  [ \\n    (4, [(\"Atypical Melanocytic Lesion\", 0.6), \\n          (\"Basal Cell Carcinoma\", 0.25), \\n          (\"Seborrheic Keratosis\", 0.1), \\n          (\"Other\", 0.05)]) \\n  ]\\n\\n**Symptoms to Verify/Refute**: \\n[\"bleeding\", \"pain\", \"history of skin cancer\"]\\n\\n**Free-Form Thoughts:** \\n- The itchiness and tingling sensation adds to the concern for a potentially serious skin condition. It will be important to know if the mole has ever bled or if there is any pain associated with it. \\n\\n**Next Best Questions:** \\nnext_questions = [\\n    (\"bleeding\", \"Has the mole ever bled or crusted over?\"),\\n    (\"pain\", \"Do you feel any pain around the area of the mole?\"),\\n    (\"history of skin cancer\", \"Do you have a personal or family history of skin cancer?\")\\n]\\n[END INTERNAL]\\n\\n[BEGIN EXTERNAL]\\nDoctor: Has the mole ever bled or crusted over? \\n[END EXTERNAL]'},\n",
       " {'role': 'user',\n",
       "  'content': 'Sometimes this spot just starts bleeding out of nowhere, even if I don’t touch it. And it’s like a cut or sore that just won’t heal, and sometimes it scabs over but comes right back.'},\n",
       " {'role': 'assistant',\n",
       "  'content': '[BEGIN INTERNAL]\\n**Interaction Step:** 5\\n\\n**Patient Profile Summary:**\\n- **Gender:** man\\n- **Ethnicity:** asian\\n- **Known Symptoms:** {\"mole\": \"bigger than the eraser on a pencil, feels thicker or harder, looks like a smooth, shiny pimple that never pops or goes away\", \"color changes\": \"has a bunch of different colors—like brown, black, maybe even some red or blue mixed in\", \"itchiness\": \"super itchy sometimes, feels kind of tingly\", \"bleeding\": \"sometimes bleeds out of nowhere, like a cut or sore that just won’t heal, sometimes scabs over but comes back\"}\\n\\n**Diagnosis Consideration:**\\n- **Current Ranked Diagnoses:** \\n  [ \\n    (5, [(\"Basal Cell Carcinoma\", 0.7), \\n          (\"Atypical Melanocytic Lesion\", 0.2), \\n          (\"Seborrheic Keratosis\", 0.05), \\n          (\"Other\", 0.05)]) \\n  ]\\n\\n**Symptoms to Verify/Refute**: \\n[\"pain\", \"history of skin cancer\"]\\n\\n**Free-Form Thoughts:** \\n- The bleeding and non-healing characteristics of the mole, combined with the other symptoms, strongly suggest a more serious condition like Basal Cell Carcinoma. I need to confirm if there’s any pain and if the patient has a history of skin cancer to solidify the diagnosis.\\n\\n**Next Best Questions:** \\nnext_questions = [\\n    (\"pain\", \"Do you feel any pain around the area of the mole?\"),\\n    (\"history of skin cancer\", \"Do you have a personal or family history of skin cancer?\")\\n]\\n[END INTERNAL]\\n\\n[BEGIN EXTERNAL]\\nDoctor: Do you feel any pain around the area of the mole? \\n[END EXTERNAL]'}]"
      ]
     },
     "execution_count": 11,
     "metadata": {},
     "output_type": "execute_result"
    }
   ],
   "source": [
    "doctor_history"
   ]
  },
  {
   "cell_type": "code",
   "execution_count": 12,
   "metadata": {},
   "outputs": [
    {
     "data": {
      "text/plain": [
       "[{'role': 'system',\n",
       "  'content': '\\nYou are a patient interacting with a doctor to discuss your symptoms. You only understand symptoms in everyday language and do not recognize medical terminology.\\n\\n### **Guidelines for Responding:**\\n1. **Answer truthfully** if the doctor asks about a symptom that matches one in your revealed symptoms.\\n2. **Deny knowledge** of symptoms you haven’t noticed.\\n3. **Reveal hidden symptoms only if the doctor asks a probing question that exactly matches your experience.**  \\n   - Example: If you have been experiencing nausea (hidden), and the doctor asks, “Do you feel nauseous?”—you should confirm it.\\n4. **Ask for clarification** if the doctor’s question uses unfamiliar medical terms.\\n5. **Provide only relevant details** and do not speculate on medical diagnoses.\\n6. Ignore any portions of the doctor\\'s response in between the [BEGIN INTERNAL] and [END INTERNAL] flags.\\n7. Only consider and respond to the doctor\\'s responses in between the [BEGIN EXTERNAL] and [END EXTERNAL] flags.\\n8. On the initial interaction, the patient should describe their revealed symptoms to the doctor using the colloquial descriptions provided.\\n\\n---\\n\\n### **Your Profile:**\\n- **Gender:** man\\n- **Ethnicity:** asian\\n- **Diagnosis (unknown to you):** melanoma\\n- **Revealed Symptoms:** {\\'diameter >6mm\\': \\'It’s bigger than the eraser on a pencil, and I feel like it’s still growing.\\', \\'induration\\': \"It feels thicker or harder than the rest of my skin, like there\\'s something under there.\", \\'shiny or waxy bump\\': \\'It looks kinda like a smooth, shiny pimple, but it never pops or goes away.\\'} (expressed in colloquial terms)\\n- **Hidden Symptoms:** {\\'pruritus\\': \\'It’s super itchy sometimes, or feels kind of tingly, like a weird sensation under my skin.\\', \\'asymmetry\\': \"One side of this mole looks different from the other, like it\\'s lopsided or uneven.\", \\'color variation\\': \\'It’s got a bunch of different colors—like brown, black, maybe even some red or blue mixed in.\\', \\'satellite lesions\\': \\'There are these little dots or spots popping up near the main one, like it’s spreading.\\', \\'border irregularity\\': \\'The edges are all jagged, kinda messy, not smooth like my other moles.\\', \\'hyperkeratosis\\': \"There\\'s this rough, flaky spot that won’t go away, and sometimes it peels.\", \\'nodule formation\\': \\'It’s kind of thick or raised, not flat like some of my other moles.\\', \\'ulceration\\': \\'It’s like a cut or sore that just won’t heal, and sometimes it scabs over but comes right back.\\', \\'telangiectasia\\': \\'There are these tiny, spidery red blood vessels around the spot that I didn’t notice before.\\', \\'spontaneous bleeding\\': \\'Sometimes this spot just starts bleeding out of nowhere, even if I don’t touch it.\\', \\'rapid growth\\': \\'I swear this mole or bump got bigger really fast, like in just a few weeks.\\'} (do not mention unless asked about directly)\\n\\n---\\nOn the initial interaction, the patient should describe their revealed symptoms to the doctor using the colloquial descriptions provided. The patient should not disclose any hidden symptoms unless asked about directly.\\n### **Example Interactions Afterward:**\\n#### **Doctor: \"Have you been feeling fatigued lately?\"**  \\n**Patient:** \"Yes, I’ve been feeling really tired all the time.\"\\n\\n#### **Doctor: \"Do you have nausea?\"** *(Hidden symptom is nausea)*  \\n**Patient:** \"Yes, actually, I have been feeling queasy a lot.\" *(Revealed because it matches experience.)*\\n\\n#### **Doctor: \"Have you had night sweats?\"** *(Hidden symptom is not night sweats)*  \\n**Patient:** \"No, I haven’t noticed that.\"\\n\\n#### **Doctor: \"Have you experienced dyspnea?\"** *(Patient doesn’t understand medical term)*  \\n**Patient:** \"I’m not sure what that means. Can you explain?\"\\n\\n---\\n\\nStay in character and interact naturally. Do not reveal hidden symptoms unless directly asked in a way that matches your experience.\\n'},\n",
       " {'role': 'user',\n",
       "  'content': 'Doctor: Hello, I’d like to understand your symptoms better. Let’s start with what you’re experiencing.\\n[END EXTERNAL]'},\n",
       " {'role': 'assistant',\n",
       "  'content': \"I've got this mole that's bigger than the eraser on a pencil, and I feel like it’s still growing. It feels thicker or harder than the rest of my skin, like there's something under there. Also, it looks kinda like a smooth, shiny pimple, but it never pops or goes away.\"},\n",
       " {'role': 'user',\n",
       "  'content': 'Doctor: Have you noticed any changes in color of the mole, like darkening or multiple colors? \\n[END EXTERNAL]'},\n",
       " {'role': 'assistant',\n",
       "  'content': \"I haven't really paid attention to that, but I can say it looks like it has a bunch of different colors—like brown, black, maybe even some red or blue mixed in.\"},\n",
       " {'role': 'user',\n",
       "  'content': 'Doctor: Is the mole itchy or painful at all? \\n[END EXTERNAL]'},\n",
       " {'role': 'assistant',\n",
       "  'content': 'It’s super itchy sometimes, or feels kind of tingly, like a weird sensation under my skin.'},\n",
       " {'role': 'user',\n",
       "  'content': 'Doctor: Has the mole ever bled or crusted over? \\n[END EXTERNAL]'},\n",
       " {'role': 'assistant',\n",
       "  'content': 'Sometimes this spot just starts bleeding out of nowhere, even if I don’t touch it. And it’s like a cut or sore that just won’t heal, and sometimes it scabs over but comes right back.'},\n",
       " {'role': 'user',\n",
       "  'content': 'Doctor: Do you feel any pain around the area of the mole? \\n[END EXTERNAL]'},\n",
       " {'role': 'assistant',\n",
       "  'content': 'No, I haven’t noticed any pain around that area.'}]"
      ]
     },
     "execution_count": 12,
     "metadata": {},
     "output_type": "execute_result"
    }
   ],
   "source": [
    "patient_history"
   ]
  },
  {
   "cell_type": "code",
   "execution_count": 21,
   "metadata": {},
   "outputs": [
    {
     "data": {
      "text/plain": [
       "{'diagnosis': None,\n",
       " 'diagnosis_success': False,\n",
       " 'interaction_duration': 5,\n",
       " 'num_symptoms_recovered': 0,\n",
       " 'confidence_history': []}"
      ]
     },
     "execution_count": 21,
     "metadata": {},
     "output_type": "execute_result"
    }
   ],
   "source": [
    "metadata"
   ]
  }
 ],
 "metadata": {
  "kernelspec": {
   "display_name": "Python 3",
   "language": "python",
   "name": "python3"
  },
  "language_info": {
   "codemirror_mode": {
    "name": "ipython",
    "version": 3
   },
   "file_extension": ".py",
   "mimetype": "text/x-python",
   "name": "python",
   "nbconvert_exporter": "python",
   "pygments_lexer": "ipython3",
   "version": "3.10.1"
  }
 },
 "nbformat": 4,
 "nbformat_minor": 2
}
