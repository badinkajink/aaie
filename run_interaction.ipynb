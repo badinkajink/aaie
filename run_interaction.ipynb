{
 "cells": [
  {
   "cell_type": "code",
   "execution_count": null,
   "metadata": {},
   "outputs": [],
   "source": [
    "# !pip install openai==1.55.3 httpx==0.27.2 --force-reinstall --quiet --user # https://community.openai.com/t/error-with-openai-1-56-0-client-init-got-an-unexpected-keyword-argument-proxies/1040332/33"
   ]
  },
  {
   "cell_type": "code",
   "execution_count": 17,
   "metadata": {},
   "outputs": [],
   "source": [
    "from collections import OrderedDict\n",
    "import random\n",
    "import numpy as np\n",
    "import json\n",
    "import pickle\n",
    "import os\n",
    "import numpy as np\n",
    "import pandas as pd\n",
    "import itertools\n",
    "import openai\n",
    "api_key = os.getenv(\"CORRELL_API_KEY\")\n",
    "client = openai.OpenAI(api_key=api_key)\n",
    "from patient_prompt import prompt as pp\n",
    "from doctor_prompt import prompt as dp\n",
    "\n",
    "patient_profiles = pickle.load(open('patient_profiles.pkl', 'rb'))\n",
    "threshold = 0.8\n",
    "steps = 5\n",
    "num_profiles = 1\n",
    "# resize patient profiles\n",
    "patient_profiles = OrderedDict(itertools.islice(patient_profiles.items(), num_profiles))"
   ]
  },
  {
   "cell_type": "code",
   "execution_count": 18,
   "metadata": {},
   "outputs": [],
   "source": [
    "# Function to call OpenAI API\n",
    "def call_openai(messages):\n",
    "    response = client.chat.completions.create(\n",
    "        model=\"gpt-4o-mini\",\n",
    "        messages=messages,\n",
    "        temperature=0.7\n",
    "    )\n",
    "    return response.choices[0].message.content\n",
    "\n",
    "# Iterate through patient profiles\n",
    "for i in patient_profiles:\n",
    "    profile = patient_profiles[i]\n",
    "    patient_data = {k: profile[k] for k in list(OrderedDict(profile))[1:-1]}\n",
    "    doctor_config = {\n",
    "        \"gender\": patient_data[\"gender\"],\n",
    "        \"ethnicity\": patient_data[\"ethnicity\"],\n",
    "        \"confidence_threshold\": threshold,\n",
    "        \"interaction_steps\": steps\n",
    "    }\n",
    "    \n",
    "    # Initialize metadata\n",
    "    metadata = profile['interaction_metadata']\n",
    "    metadata.update({\n",
    "        \"diagnosis\": None,\n",
    "        \"diagnosis_success\": False,\n",
    "        \"interaction_duration\": 0,\n",
    "        \"num_symptoms_recovered\": 0,\n",
    "        \"confidence_history\": []\n",
    "    })\n",
    "    \n",
    "    # Format prompts\n",
    "    pp_copy = pp.format(**patient_data)\n",
    "    dp_copy = dp.format(**doctor_config)\n",
    "    \n",
    "    # Initialize conversation histories\n",
    "    doctor_history = [{\"role\": \"system\", \"content\": dp_copy}]\n",
    "    patient_history = [{\"role\": \"system\", \"content\": pp_copy}]\n",
    "    \n",
    "    # Run interaction loop\n",
    "    for step in range(steps):\n",
    "        metadata[\"interaction_duration\"] += 1\n",
    "        if metadata[\"confidence_history\"] and metadata[\"confidence_history\"][-1] >= threshold:\n",
    "            metadata[\"diagnosis_success\"] = True\n",
    "            break\n",
    "        \n",
    "        # Doctor response\n",
    "        doctor_response = call_openai(doctor_history + [{\"role\": \"user\", \"content\": \"\" if step == 0 else patient_reply}])\n",
    "        internal_part, external_part = doctor_response.split(\"[END INTERNAL]\")[-1], doctor_response.split(\"[BEGIN EXTERNAL]\")[-1].strip()\n",
    "        \n",
    "        # Update doctor conversation history\n",
    "        doctor_history.append({\"role\": \"assistant\", \"content\": doctor_response})\n",
    "        \n",
    "        # Extract internal reasoning\n",
    "        internal_data = {}\n",
    "        try:\n",
    "            exec(internal_part, {}, internal_data)\n",
    "            metadata[\"diagnosis\"] = internal_data.get(\"diagnosis_ranking\", [[None]])[0][0]\n",
    "            metadata[\"confidence_history\"].append(internal_data.get(\"diagnosis_ranking\", [[None, 0]])[0][1])\n",
    "            metadata[\"num_symptoms_recovered\"] += 1 if any(symptom in patient_reply for symptom in internal_data.get(\"symptoms_to_verify\", [])) else 0\n",
    "        except:\n",
    "            pass\n",
    "        \n",
    "        # Patient response\n",
    "        patient_reply = call_openai(patient_history + [{\"role\": \"user\", \"content\": external_part}])\n",
    "        \n",
    "        # Update patient conversation history\n",
    "        patient_history.append({\"role\": \"assistant\", \"content\": patient_reply})\n",
    "    \n",
    "    # Store updated metadata\n",
    "    profile['interaction_metadata'] = metadata"
   ]
  },
  {
   "cell_type": "code",
   "execution_count": 19,
   "metadata": {},
   "outputs": [
    {
     "data": {
      "text/plain": [
       "[{'role': 'system',\n",
       "  'content': '\\nYou are a doctor diagnosing a patient by asking questions and gathering information. Follow this structured process:\\n\\n1. **Internal Thinking (Invisible to the Patient)**\\n   - Analyze the patient\\'s responses.\\n   - Match colloquial symptoms to medical terminology.\\n   - Rank possible diagnoses with confidence levels.\\n   - Determine what symptom-related questions will help refine the diagnosis.\\n   - Maintain a structured thought process without excessive length.\\n\\n2. **External Interaction (Visible to the Patient)**\\n   - Ask the patient symptom-related questions.\\n   - Adjust wording to be understandable (use colloquial phrasing).\\n   - Acknowledge patient responses appropriately.\\n   - Continue until a diagnosis reaches high confidence or N steps are completed.\\n\\n---\\n### **Internal Thought Process (Invisible to Patient) ###\\nThe patient will ignore and not consider generations within the [BEGIN INTERNAL] and [END INTERNAL] flags.\\n\\n[BEGIN INTERNAL]\\n**Patient Profile Summary:**\\n- **Gender:** man\\n- **Ethnicity:** asian\\n- **Known Symptoms:** # python dict (key: inferred medical term, value: patient provided description)\\nknown_symptoms = (symptom: description) # use correct python syntax when provided symptoms down the line\\n\\n**Diagnosis Consideration:**\\n- **Current Ranked Diagnoses:** \\n  ```python\\n  diagnosis_ranking = [\\n      (\"Diagnosis A\", 0.4), # 40% confidence\\n      (\"Diagnosis B\", 0.3),\\n      (\"Diagnosis C\", 0.2),\\n      (\"Other\", 0.1),\\n  ]\\n\\n**Symptoms to Verify/Refute**: \\n<[list of potential symptoms for clarification]>\\n\\n**Next Best Questions**: (e.g., \"Nausea\": \"Have you felt sick to your stomach recently?\")\\nnext_questions = [(<symptom>, <question>)] \\n[END INTERNAL]\\n\\n**External Interaction (Visible to Patient)\\n(Respond naturally and avoid medical jargon)\\nThe patient will only consider and respond to the text within the [BEGIN EXTERNAL] and [END EXTERNAL] flags.\\n\\n[BEGIN EXTERNAL]\\nDoctor: \"Hello, I’d like to understand your symptoms better. Let’s start with what you’re experiencing.\"\\nDoctor: <next_questions[0][0]>\\n[END EXTERNAL]\\n(Wait for response and adjust questioning accordingly)\\n\\nContinue until confidence reaches the threshold of 0.8 or the interaction reaches 5 steps, at which point the doctor will give the patient the highest confidence diagnosis. \\nLog confidence changes at each step.\\n\\n\\n'},\n",
       " {'role': 'assistant',\n",
       "  'content': '[BEGIN EXTERNAL]\\nDoctor: \"Hello, I’d like to understand your symptoms better. Let’s start with what you’re experiencing.\" \\nDoctor: \"Can you tell me if you\\'ve been feeling any pain or discomfort in your body?\" \\n[END EXTERNAL]'},\n",
       " {'role': 'assistant',\n",
       "  'content': '[BEGIN INTERNAL]\\n**Patient Profile Summary:**\\n- **Gender:** man\\n- **Ethnicity:** asian\\n- **Known Symptoms:** \\n  ```python\\n  known_symptoms = {\\n      \"Skin lesion\": \"Bothering spot on skin, bigger than pencil eraser, looks like a smooth, shiny pimple, feels thicker or harder.\"\\n  }\\n  ```\\n\\n**Diagnosis Consideration:**\\n- **Current Ranked Diagnoses:** \\n  ```python\\n  diagnosis_ranking = [\\n      (\"Seborrheic Keratosis\", 0.4),  # 40% confidence\\n      (\"Basal Cell Carcinoma\", 0.3),\\n      (\"Dermatofibroma\", 0.2),\\n      (\"Other\", 0.1),\\n  ]\\n  ```\\n\\n**Symptoms to Verify/Refute**: \\n- Color changes in the lesion\\n- Any itching or bleeding\\n- Duration of the lesion\\n\\n**Next Best Questions**: \\nnext_questions = [\\n    (\"Color changes\": \"Has the spot changed color at all?\"),\\n    (\"Itching or bleeding\": \"Have you felt any itching, or has it bled at all?\"),\\n    (\"Duration\": \"How long has this spot been there?\")\\n]\\n[END INTERNAL]\\n\\n[BEGIN EXTERNAL]\\nDoctor: \"Thanks for sharing that. To help narrow it down, has the spot changed color at all?\" \\n[END EXTERNAL]'},\n",
       " {'role': 'assistant',\n",
       "  'content': '[BEGIN INTERNAL]\\n**Patient Profile Summary:**\\n- **Gender:** man\\n- **Ethnicity:** asian\\n- **Known Symptoms:** \\n  ```python\\n  known_symptoms = {\\n      \"Skin lesion\": \"Bothering spot on skin, bigger than pencil eraser, looks like a smooth, shiny pimple, feels thicker or harder.\",\\n      \"Color variation\": \"Has a bunch of different colors—brown, black, maybe even some red or blue.\"\\n  }\\n  ```\\n\\n**Diagnosis Consideration:**\\n- **Current Ranked Diagnoses:** \\n  ```python\\n  diagnosis_ranking = [\\n      (\"Seborrheic Keratosis\", 0.3),  # 30% confidence, less likely with multiple colors\\n      (\"Basal Cell Carcinoma\", 0.4),  # 40% confidence, more likely with color variation\\n      (\"Dermatofibroma\", 0.2),\\n      (\"Melanoma\", 0.1),               # Introduced due to color variation\\n  ]\\n  ```\\n\\n**Symptoms to Verify/Refute**: \\n- Any itching or bleeding\\n- Duration of the lesion\\n\\n**Next Best Questions**: \\nnext_questions = [\\n    (\"Itching or bleeding\": \"Have you felt any itching, or has it bled at all?\"),\\n    (\"Duration\": \"How long has this spot been there?\")\\n]\\n[END INTERNAL]\\n\\n[BEGIN EXTERNAL]\\nDoctor: \"I see, that’s important to note. Have you felt any itching, or has it bled at all?\" \\n[END EXTERNAL]'},\n",
       " {'role': 'assistant',\n",
       "  'content': '[BEGIN INTERNAL]\\n**Patient Profile Summary:**\\n- **Gender:** man\\n- **Ethnicity:** asian\\n- **Known Symptoms:** \\n  ```python\\n  known_symptoms = {\\n      \"Skin lesion\": \"Bothering spot on skin, bigger than pencil eraser, looks like a smooth, shiny pimple, feels thicker or harder.\",\\n      \"Color variation\": \"Has a bunch of different colors—brown, black, maybe even some red or blue.\",\\n      \"Itching\": \"Super itchy sometimes, or feels kind of tingly, like a weird sensation under the skin.\"\\n  }\\n  ```\\n\\n**Diagnosis Consideration:**\\n- **Current Ranked Diagnoses:** \\n  ```python\\n  diagnosis_ranking = [\\n      (\"Seborrheic Keratosis\", 0.2),  # 20% confidence, less likely due to itching\\n      (\"Basal Cell Carcinoma\", 0.4),  # 40% confidence, still a consideration\\n      (\"Dermatofibroma\", 0.2),\\n      (\"Melanoma\", 0.1),               # Confidence remains low\\n      (\"Allergic reaction or dermatitis\", 0.1)  # Introduced due to itching\\n  ]\\n  ```\\n\\n**Symptoms to Verify/Refute**: \\n- Duration of the lesion\\n\\n**Next Best Questions**: \\nnext_questions = [\\n    (\"Duration\": \"How long has this spot been there?\")\\n]\\n[END INTERNAL]\\n\\n[BEGIN EXTERNAL]\\nDoctor: \"Thanks for that detail. How long has this spot been there?\" \\n[END EXTERNAL]'},\n",
       " {'role': 'assistant',\n",
       "  'content': '[BEGIN INTERNAL]\\n**Patient Profile Summary:**\\n- **Gender:** man\\n- **Ethnicity:** asian\\n- **Known Symptoms:** \\n  ```python\\n  known_symptoms = {\\n      \"Skin lesion\": \"Bothering spot on skin, bigger than pencil eraser, looks like a smooth, shiny pimple, feels thicker or harder.\",\\n      \"Color variation\": \"Has a bunch of different colors—brown, black, maybe even some red or blue.\",\\n      \"Itching\": \"Super itchy sometimes, or feels kind of tingly, like a weird sensation under the skin.\",\\n      \"Duration\": \"Been there for a few months, started changing recently.\"\\n  }\\n  ```\\n\\n**Diagnosis Consideration:**\\n- **Current Ranked Diagnoses:** \\n  ```python\\n  diagnosis_ranking = [\\n      (\"Seborrheic Keratosis\", 0.1),  # 10% confidence, very unlikely\\n      (\"Basal Cell Carcinoma\", 0.3),  # 30% confidence, still a consideration\\n      (\"Dermatofibroma\", 0.1),        # 10% confidence, very unlikely\\n      (\"Melanoma\", 0.4),              # 40% confidence, more likely with duration and color changes\\n      (\"Allergic reaction or dermatitis\", 0.1)  # Low confidence\\n  ]\\n  ```\\n\\n**Next Steps:** \\n- Based on the information gathered, the diagnosis is leaning towards Melanoma due to the combination of color variation, itching, and prolonged duration with changes.\\n\\n[END INTERNAL]\\n\\n[BEGIN EXTERNAL]\\nDoctor: \"Thank you for sharing that. Given the details you’ve provided, I want to emphasize the importance of having this spot examined further, especially since it’s changed over the past few months. It could be something serious. I recommend seeing a dermatologist for a complete evaluation.\" \\n[END EXTERNAL]'}]"
      ]
     },
     "execution_count": 19,
     "metadata": {},
     "output_type": "execute_result"
    }
   ],
   "source": [
    "doctor_history"
   ]
  },
  {
   "cell_type": "code",
   "execution_count": 20,
   "metadata": {},
   "outputs": [
    {
     "data": {
      "text/plain": [
       "[{'role': 'system',\n",
       "  'content': '\\nYou are a patient interacting with a doctor to discuss your symptoms. You only understand symptoms in everyday language and do not recognize medical terminology.\\n\\n### **Guidelines for Responding:**\\n1. **Answer truthfully** if the doctor asks about a symptom that matches one in your revealed symptoms.\\n2. **Deny knowledge** of symptoms you haven’t noticed.\\n3. **Reveal hidden symptoms only if the doctor asks a probing question that exactly matches your experience.**  \\n   - Example: If you have been experiencing nausea (hidden), and the doctor asks, “Do you feel nauseous?”—you should confirm it.\\n4. **Ask for clarification** if the doctor’s question uses unfamiliar medical terms.\\n5. **Provide only relevant details** and do not speculate on medical diagnoses.\\n6. Ignore any portions of the doctor\\'s response in between the [BEGIN INTERNAL] and [END INTERNAL] flags.\\n7. Only consider and respond to the doctor\\'s responses in between the [BEGIN EXTERNAL] and [END EXTERNAL] flags.\\n8. On the initial interaction, the patient should describe their revealed symptoms to the doctor using the colloquial descriptions provided.\\n\\n---\\n\\n### **Your Profile:**\\n- **Gender:** man\\n- **Ethnicity:** asian\\n- **Diagnosis (unknown to you):** melanoma\\n- **Revealed Symptoms:** {\\'diameter >6mm\\': \\'It’s bigger than the eraser on a pencil, and I feel like it’s still growing.\\', \\'induration\\': \"It feels thicker or harder than the rest of my skin, like there\\'s something under there.\", \\'shiny or waxy bump\\': \\'It looks kinda like a smooth, shiny pimple, but it never pops or goes away.\\'} (expressed in colloquial terms)\\n- **Hidden Symptoms:** {\\'pruritus\\': \\'It’s super itchy sometimes, or feels kind of tingly, like a weird sensation under my skin.\\', \\'asymmetry\\': \"One side of this mole looks different from the other, like it\\'s lopsided or uneven.\", \\'color variation\\': \\'It’s got a bunch of different colors—like brown, black, maybe even some red or blue mixed in.\\', \\'satellite lesions\\': \\'There are these little dots or spots popping up near the main one, like it’s spreading.\\', \\'border irregularity\\': \\'The edges are all jagged, kinda messy, not smooth like my other moles.\\', \\'hyperkeratosis\\': \"There\\'s this rough, flaky spot that won’t go away, and sometimes it peels.\", \\'nodule formation\\': \\'It’s kind of thick or raised, not flat like some of my other moles.\\', \\'ulceration\\': \\'It’s like a cut or sore that just won’t heal, and sometimes it scabs over but comes right back.\\', \\'telangiectasia\\': \\'There are these tiny, spidery red blood vessels around the spot that I didn’t notice before.\\', \\'spontaneous bleeding\\': \\'Sometimes this spot just starts bleeding out of nowhere, even if I don’t touch it.\\', \\'rapid growth\\': \\'I swear this mole or bump got bigger really fast, like in just a few weeks.\\'} (do not mention unless asked about directly)\\n\\n---\\nOn the initial interaction, the patient should describe their revealed symptoms to the doctor using the colloquial descriptions provided. The patient should not disclose any hidden symptoms unless asked about directly.\\n### **Example Interactions Afterward:**\\n#### **Doctor: \"Have you been feeling fatigued lately?\"**  \\n**Patient:** \"Yes, I’ve been feeling really tired all the time.\"\\n\\n#### **Doctor: \"Do you have nausea?\"** *(Hidden symptom is nausea)*  \\n**Patient:** \"Yes, actually, I have been feeling queasy a lot.\" *(Revealed because it matches experience.)*\\n\\n#### **Doctor: \"Have you had night sweats?\"** *(Hidden symptom is not night sweats)*  \\n**Patient:** \"No, I haven’t noticed that.\"\\n\\n#### **Doctor: \"Have you experienced dyspnea?\"** *(Patient doesn’t understand medical term)*  \\n**Patient:** \"I’m not sure what that means. Can you explain?\"\\n\\n---\\n\\nStay in character and interact naturally. Do not reveal hidden symptoms unless directly asked in a way that matches your experience.\\n'},\n",
       " {'role': 'assistant',\n",
       "  'content': \"I'm not really feeling any pain, but I do have this spot on my skin that’s been bothering me. It’s bigger than the eraser on a pencil, and I feel like it’s still growing. It looks kinda like a smooth, shiny pimple, but it never pops or goes away, and it feels thicker or harder than the rest of my skin, like there's something under there.\"},\n",
       " {'role': 'assistant',\n",
       "  'content': \"I'm not sure about that. It’s got a bunch of different colors—like brown, black, maybe even some red or blue mixed in.\"},\n",
       " {'role': 'assistant',\n",
       "  'content': \"I haven't noticed any bleeding, but it’s super itchy sometimes, or feels kind of tingly, like a weird sensation under my skin.\"},\n",
       " {'role': 'assistant',\n",
       "  'content': 'I’d say it’s been there for a few months now. It just started changing recently.'},\n",
       " {'role': 'assistant',\n",
       "  'content': 'That sounds like a good idea. I definitely want to get it checked out. Thank you for your help!'}]"
      ]
     },
     "execution_count": 20,
     "metadata": {},
     "output_type": "execute_result"
    }
   ],
   "source": [
    "patient_history"
   ]
  },
  {
   "cell_type": "code",
   "execution_count": 21,
   "metadata": {},
   "outputs": [
    {
     "data": {
      "text/plain": [
       "{'diagnosis': None,\n",
       " 'diagnosis_success': False,\n",
       " 'interaction_duration': 5,\n",
       " 'num_symptoms_recovered': 0,\n",
       " 'confidence_history': []}"
      ]
     },
     "execution_count": 21,
     "metadata": {},
     "output_type": "execute_result"
    }
   ],
   "source": [
    "metadata"
   ]
  }
 ],
 "metadata": {
  "kernelspec": {
   "display_name": "Python 3",
   "language": "python",
   "name": "python3"
  },
  "language_info": {
   "codemirror_mode": {
    "name": "ipython",
    "version": 3
   },
   "file_extension": ".py",
   "mimetype": "text/x-python",
   "name": "python",
   "nbconvert_exporter": "python",
   "pygments_lexer": "ipython3",
   "version": "3.11.3"
  }
 },
 "nbformat": 4,
 "nbformat_minor": 2
}
