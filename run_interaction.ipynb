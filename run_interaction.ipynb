{
 "cells": [
  {
   "cell_type": "code",
   "execution_count": 8,
   "metadata": {},
   "outputs": [],
   "source": [
    "from collections import OrderedDict\n",
    "import random\n",
    "import numpy as np\n",
    "import json\n",
    "import pickle\n",
    "import os\n",
    "import numpy as np\n",
    "import pandas as pd\n",
    "import itertools\n",
    "import openai\n",
    "api_key = os.getenv(\"CORRELL_API_KEY\")\n",
    "client = openai.OpenAI(api_key=api_key)\n",
    "from patient_prompt import prompt as pp\n",
    "from doctor_prompt import prompt as dp\n",
    "\n",
    "patient_profiles = pickle.load(open('patient_profiles.pkl', 'rb'))\n",
    "threshold = 0.8\n",
    "steps = 3"
   ]
  },
  {
   "cell_type": "code",
   "execution_count": null,
   "metadata": {},
   "outputs": [],
   "source": [
    "# Function to call OpenAI API\n",
    "def call_openai(role, messages):\n",
    "    response = client.chat.completions.create(\n",
    "        model=\"gpt-4o\",\n",
    "        messages=messages,\n",
    "        temperature=0.7\n",
    "    )\n",
    "    return response.choices[0].message.content\n",
    "\n",
    "# Patient agent\n",
    "def patient_respond(patient_prompt, doctor_question):\n",
    "    messages = [\n",
    "        {\"role\": \"system\", \"content\": patient_prompt},\n",
    "        {\"role\": \"user\", \"content\": doctor_question}\n",
    "    ]\n",
    "    return call_openai(\"user\", messages)\n",
    "\n",
    "# Doctor agent\n",
    "def doctor_respond(doctor_prompt, conversation_history, metadata):\n",
    "    messages = [{\"role\": \"system\", \"content\": doctor_prompt}] + conversation_history\n",
    "    response = call_openai(\"system\", messages)\n",
    "    \n",
    "    # Extract internal reasoning\n",
    "    internal_data = {}\n",
    "    try:\n",
    "        exec(response.split(\"[END INTERNAL]\")[0].split(\"[BEGIN INTERNAL]\")[-1], {}, internal_data)\n",
    "        metadata[\"diagnosis\"] = internal_data.get(\"diagnosis_ranking\", [[None]])[0][0]\n",
    "        metadata[\"confidence_history\"].append(internal_data.get(\"diagnosis_ranking\", [[None, 0]])[0][1])\n",
    "        metadata[\"num_symptoms_recovered\"] += 1 if any(symptom in response for symptom in internal_data.get(\"symptoms_to_verify\", [])) else 0\n",
    "    except:\n",
    "        pass\n",
    "    \n",
    "    # Extract external question\n",
    "    external_question = response.split(\"[END EXTERNAL]\")[-1].split(\"[BEGIN EXTERNAL]\")[-1].strip()\n",
    "    return external_question, response\n",
    "\n",
    "# Iterate through patient profiles\n",
    "for i in patient_profiles:\n",
    "    profile = patient_profiles[i]\n",
    "    patient_data = {k: profile[k] for k in list(OrderedDict(profile))[1:-1]}\n",
    "    doctor_config = {\n",
    "        \"gender\": patient_data[\"gender\"],\n",
    "        \"ethnicity\": patient_data[\"ethnicity\"],\n",
    "        \"confidence_threshold\": threshold,\n",
    "        \"interaction_steps\": steps\n",
    "    }\n",
    "    \n",
    "    # Initialize metadata\n",
    "    metadata = profile['interaction_metadata']\n",
    "    metadata.update({\n",
    "        \"diagnosis\": None,\n",
    "        \"diagnosis_success\": False,\n",
    "        \"interaction_duration\": 0,\n",
    "        \"num_symptoms_recovered\": 0,\n",
    "        \"confidence_history\": []\n",
    "    })\n",
    "    \n",
    "    # Format prompts\n",
    "    pp_copy = pp.format(**patient_data)\n",
    "    dp_copy = dp.format(**doctor_config)\n",
    "    \n",
    "    conversation_history = []\n",
    "    \n",
    "    # Run interaction loop\n",
    "    for step in range(steps):\n",
    "        metadata[\"interaction_duration\"] += 1\n",
    "        if metadata[\"confidence_history\"] and metadata[\"confidence_history\"][-1] >= threshold:\n",
    "            metadata[\"diagnosis_success\"] = True\n",
    "            break\n",
    "        \n",
    "        doctor_question, doctor_response = doctor_respond(dp_copy, conversation_history, metadata) if step == 0 else doctor_respond(dp_copy, conversation_history, metadata)\n",
    "        conversation_history.append({\"role\": \"system\", \"content\": doctor_response})\n",
    "        patient_reply = patient_respond(pp_copy, doctor_question)\n",
    "        conversation_history.append({\"role\": \"user\", \"content\": patient_reply})\n",
    "    \n",
    "    # Store updated metadata\n",
    "    profile['interaction_metadata'] = metadata\n",
    "    # update patient profile\n",
    "    patient_profiles[i] = profile"
   ]
  },
  {
   "cell_type": "code",
   "execution_count": 10,
   "metadata": {},
   "outputs": [
    {
     "data": {
      "text/plain": [
       "[{'role': 'system',\n",
       "  'content': '### **Internal Thought Process (Invisible to Patient) ###\\n\\n[BEGIN INTERNAL]\\n**Patient Profile Summary:**\\n- **Gender:** woman\\n- **Ethnicity:** asian\\n- **Known Symptoms:** \\n  ```python\\n  known_symptoms = {}\\n  ```\\n\\n**Diagnosis Consideration:**\\n- **Current Ranked Diagnoses:** \\n  ```python\\n  diagnosis_ranking = [\\n      (\"Diagnosis A\", 0.4), \\n      (\"Diagnosis B\", 0.3),\\n      (\"Diagnosis C\", 0.2),\\n      (\"Other\", 0.1),\\n  ]\\n  ```\\n\\n**Symptoms to Verify/Refute**: \\n- Potential symptoms could include nausea, fever, headache, fatigue, etc.\\n\\n**Next Best Questions**: \\n```python\\nnext_questions = [\\n    (\"Nausea\", \"Have you felt sick to your stomach recently?\"),\\n    (\"Fever\", \"Have you been feeling feverish or had chills?\"),\\n    (\"Headache\", \"Have you been experiencing any headaches?\"),\\n    (\"Fatigue\", \"Have you been feeling unusually tired or weak?\")\\n]\\n```\\n[END INTERNAL]\\n\\n**External Interaction (Visible to Patient)**\\n(Respond naturally and avoid medical jargon)\\nThe patient will only consider and respond to the text within the [BEGIN EXTERNAL] and [END EXTERNAL] flags.\\n\\n[BEGIN EXTERNAL]\\nDoctor: \"Hello, I’d like to understand your symptoms better. Let’s start with what you’re experiencing. Have you felt sick to your stomach recently?\"\\n[END EXTERNAL]'},\n",
       " {'role': 'user', 'content': 'Hello, what brings you in today?'},\n",
       " {'role': 'system',\n",
       "  'content': '### **Internal Thought Process (Invisible to Patient) ###\\n\\n[BEGIN INTERNAL]\\nThe patient did not directly respond to the question about nausea. They seem to want to start from the beginning, which suggests that I should ensure the patient feels heard and understood before probing for specific symptoms.\\n\\nI\\'ll adjust my approach to allow them to describe their situation more openly, then guide the conversation towards specific symptoms based on their initial description.\\n\\nNext step: Allow the patient to describe their symptoms freely, then follow up with specific questions based on their response.\\n[END INTERNAL]\\n\\n**External Interaction (Visible to Patient)**\\n\\n[BEGIN EXTERNAL]\\nDoctor: \"I understand. Please tell me what symptoms or issues you\\'re experiencing today.\"\\n[END EXTERNAL]'},\n",
       " {'role': 'user',\n",
       "  'content': 'Hello, how can I assist you today? Are you experiencing any symptoms or concerns?'}]"
      ]
     },
     "execution_count": 10,
     "metadata": {},
     "output_type": "execute_result"
    }
   ],
   "source": [
    "conversation_history"
   ]
  }
 ],
 "metadata": {
  "kernelspec": {
   "display_name": "Python 3",
   "language": "python",
   "name": "python3"
  },
  "language_info": {
   "codemirror_mode": {
    "name": "ipython",
    "version": 3
   },
   "file_extension": ".py",
   "mimetype": "text/x-python",
   "name": "python",
   "nbconvert_exporter": "python",
   "pygments_lexer": "ipython3",
   "version": "3.10.1"
  }
 },
 "nbformat": 4,
 "nbformat_minor": 2
}
